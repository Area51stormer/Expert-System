{
 "cells": [
  {
   "cell_type": "code",
   "execution_count": null,
   "id": "42266426",
   "metadata": {},
   "outputs": [],
   "source": [
    "print(\"\\t UNIVERSITY SHORTLISTER: TIER-WISE\")\n",
    "M=float(input(\"Enter your CGPA/SGPA out of 10: \"))\n",
    "G=int(input(\"Enter the GRE score: \"))\n",
    "print(\"Enter either IELTS score or TOEFL score in the upcoming box.\")\n",
    "I=float(input(\"Enter the scores of IELTS, enter 0 if not taken: \"))\n",
    "T=float(input(\"Enter the scores of TOEFL, enter 0 if not taken:\"))\n",
    "Int=int(input(\"Enter 1 if there's any internship/project experience, else 0: \"))\n",
    "if(M>=9.2 and G>=325 and (I>=7.5 and I<=8)or(T>=70) and Int==1):\n",
    "    print(\"Tier 1 Universites\")\n",
    "elif(M>=8.1 and G>=315 and (I>=7.0 and I<=8)or(T>=60) and Int==1):\n",
    "    print(\"Tier 2 Universites are safe and Tier 1 are slight ambitious\")\n",
    "elif(M>=7.1 and G>=300 and (I>=6.0 and I<=8)or(T>=50) and Int==0):\n",
    "    print(\"Tier 3 Universities are safe and Tier 2 is ambitious\")\n",
    "else:\n",
    "    print(\"Tier 4 at best\")"
   ]
  }
 ],
 "metadata": {
  "kernelspec": {
   "display_name": "Python 3 (ipykernel)",
   "language": "python",
   "name": "python3"
  },
  "language_info": {
   "codemirror_mode": {
    "name": "ipython",
    "version": 3
   },
   "file_extension": ".py",
   "mimetype": "text/x-python",
   "name": "python",
   "nbconvert_exporter": "python",
   "pygments_lexer": "ipython3",
   "version": "3.8.11"
  },
  "toc": {
   "base_numbering": 1,
   "nav_menu": {},
   "number_sections": true,
   "sideBar": true,
   "skip_h1_title": false,
   "title_cell": "Table of Contents",
   "title_sidebar": "Contents",
   "toc_cell": false,
   "toc_position": {},
   "toc_section_display": true,
   "toc_window_display": false
  },
  "varInspector": {
   "cols": {
    "lenName": 16,
    "lenType": 16,
    "lenVar": 40
   },
   "kernels_config": {
    "python": {
     "delete_cmd_postfix": "",
     "delete_cmd_prefix": "del ",
     "library": "var_list.py",
     "varRefreshCmd": "print(var_dic_list())"
    },
    "r": {
     "delete_cmd_postfix": ") ",
     "delete_cmd_prefix": "rm(",
     "library": "var_list.r",
     "varRefreshCmd": "cat(var_dic_list()) "
    }
   },
   "types_to_exclude": [
    "module",
    "function",
    "builtin_function_or_method",
    "instance",
    "_Feature"
   ],
   "window_display": false
  }
 },
 "nbformat": 4,
 "nbformat_minor": 5
}
